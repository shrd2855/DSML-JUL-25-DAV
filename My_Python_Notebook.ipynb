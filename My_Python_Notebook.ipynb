{
  "nbformat": 4,
  "nbformat_minor": 0,
  "metadata": {
    "colab": {
      "provenance": [],
      "authorship_tag": "ABX9TyNMrqbYIBbXTIJfV6lxBktX",
      "include_colab_link": true
    },
    "kernelspec": {
      "name": "python3",
      "display_name": "Python 3"
    },
    "language_info": {
      "name": "python"
    }
  },
  "cells": [
    {
      "cell_type": "markdown",
      "metadata": {
        "id": "view-in-github",
        "colab_type": "text"
      },
      "source": [
        "<a href=\"https://colab.research.google.com/github/shrd2855/DSML-JUL-25-DAV/blob/main/My_Python_Notebook.ipynb\" target=\"_parent\"><img src=\"https://colab.research.google.com/assets/colab-badge.svg\" alt=\"Open In Colab\"/></a>"
      ]
    },
    {
      "cell_type": "code",
      "execution_count": null,
      "metadata": {
        "colab": {
          "base_uri": "https://localhost:8080/"
        },
        "id": "mk_C4W-MRwOc",
        "outputId": "27f92dae-8286-4c6b-8422-a38930cfcb97"
      },
      "outputs": [
        {
          "output_type": "stream",
          "name": "stdout",
          "text": [
            "hello world\n"
          ]
        }
      ],
      "source": [
        "print('hello world')"
      ]
    },
    {
      "cell_type": "code",
      "source": [
        "a = \"13.56\"\n",
        "print(float(a))"
      ],
      "metadata": {
        "id": "E9SP-M4nWv3r",
        "outputId": "1c4d71fa-8887-44b4-9c85-b7122e65d8ea",
        "colab": {
          "base_uri": "https://localhost:8080/"
        }
      },
      "execution_count": null,
      "outputs": [
        {
          "output_type": "stream",
          "name": "stdout",
          "text": [
            "13.56\n"
          ]
        }
      ]
    },
    {
      "cell_type": "code",
      "source": [
        "print(24)"
      ],
      "metadata": {
        "id": "8Ya23WsDTgD9",
        "outputId": "85b9994c-2c0f-44b8-8292-08c1b5e3fddf",
        "colab": {
          "base_uri": "https://localhost:8080/"
        }
      },
      "execution_count": null,
      "outputs": [
        {
          "output_type": "stream",
          "name": "stdout",
          "text": [
            "24\n"
          ]
        }
      ]
    },
    {
      "cell_type": "code",
      "source": [
        "print(\"54\" + \"23\")"
      ],
      "metadata": {
        "colab": {
          "base_uri": "https://localhost:8080/"
        },
        "id": "aMsZlqabZSNL",
        "outputId": "5694eeb3-1aae-430b-ed0a-18f9ce8c1c4b"
      },
      "execution_count": null,
      "outputs": [
        {
          "output_type": "stream",
          "name": "stdout",
          "text": [
            "5423\n"
          ]
        }
      ]
    },
    {
      "cell_type": "code",
      "source": [
        "print(\"1\" == 1)"
      ],
      "metadata": {
        "colab": {
          "base_uri": "https://localhost:8080/"
        },
        "id": "ZVaywuLCrC43",
        "outputId": "2ac7f4b6-6f15-4a59-a79c-802a347366ba"
      },
      "execution_count": null,
      "outputs": [
        {
          "output_type": "stream",
          "name": "stdout",
          "text": [
            "False\n"
          ]
        }
      ]
    },
    {
      "cell_type": "code",
      "source": [
        "x = 2\n",
        "if x==2:\n",
        "    x = 3\n",
        "x = 4\n",
        "else:\n",
        "    x = 5\n",
        "print(x)"
      ],
      "metadata": {
        "id": "axIO42BqXdGW",
        "outputId": "8026ade0-ff07-40a8-8771-26abe5ac6b61",
        "colab": {
          "base_uri": "https://localhost:8080/",
          "height": 106
        }
      },
      "execution_count": null,
      "outputs": [
        {
          "output_type": "error",
          "ename": "SyntaxError",
          "evalue": "invalid syntax (<ipython-input-1-f39cd7db9a9c>, line 5)",
          "traceback": [
            "\u001b[0;36m  File \u001b[0;32m\"<ipython-input-1-f39cd7db9a9c>\"\u001b[0;36m, line \u001b[0;32m5\u001b[0m\n\u001b[0;31m    else:\u001b[0m\n\u001b[0m    ^\u001b[0m\n\u001b[0;31mSyntaxError\u001b[0m\u001b[0;31m:\u001b[0m invalid syntax\n"
          ]
        }
      ]
    },
    {
      "cell_type": "code",
      "source": [
        "print(True == 1)"
      ],
      "metadata": {
        "colab": {
          "base_uri": "https://localhost:8080/"
        },
        "id": "89NyzSTRqfY2",
        "outputId": "3b749441-b74c-49dd-89f7-7bf1be21970e"
      },
      "execution_count": null,
      "outputs": [
        {
          "output_type": "stream",
          "name": "stdout",
          "text": [
            "True\n"
          ]
        }
      ]
    },
    {
      "cell_type": "code",
      "source": [
        "8*8*8"
      ],
      "metadata": {
        "colab": {
          "base_uri": "https://localhost:8080/"
        },
        "id": "3lufopg075Uo",
        "outputId": "d784bcd1-6031-46b8-ebde-f375c04adfb8"
      },
      "execution_count": null,
      "outputs": [
        {
          "output_type": "execute_result",
          "data": {
            "text/plain": [
              "512"
            ]
          },
          "metadata": {},
          "execution_count": 1
        }
      ]
    },
    {
      "cell_type": "code",
      "source": [
        "3*3*3*3*3"
      ],
      "metadata": {
        "colab": {
          "base_uri": "https://localhost:8080/"
        },
        "id": "YycU9Ylk8P1i",
        "outputId": "ccc582ff-ce33-446a-8e92-f0ae579e55b7"
      },
      "execution_count": null,
      "outputs": [
        {
          "output_type": "execute_result",
          "data": {
            "text/plain": [
              "243"
            ]
          },
          "metadata": {},
          "execution_count": 4
        }
      ]
    },
    {
      "cell_type": "markdown",
      "source": [
        "Question:Take an input from the user for start and end values and print every third number"
      ],
      "metadata": {
        "id": "VhbL3O8fDBnl"
      }
    },
    {
      "cell_type": "code",
      "source": [
        "start = int(input())\n",
        "end = int(input())\n",
        "while start <= end:\n",
        "  print(start)\n",
        "  start+=3"
      ],
      "metadata": {
        "colab": {
          "base_uri": "https://localhost:8080/"
        },
        "id": "uIeRy2IEC80f",
        "outputId": "f46e087f-0de5-43a1-97e7-06f80a617d34"
      },
      "execution_count": null,
      "outputs": [
        {
          "output_type": "stream",
          "name": "stdout",
          "text": [
            "10\n",
            "20\n",
            "10\n",
            "13\n",
            "16\n",
            "19\n"
          ]
        }
      ]
    },
    {
      "cell_type": "markdown",
      "source": [
        "Question: Take an input from the user for start and end values. Print all even numbers between them."
      ],
      "metadata": {
        "id": "VCblmwbqFdZl"
      }
    },
    {
      "cell_type": "code",
      "source": [
        "start = int(input())\n",
        "end = int(input())\n",
        "while start <= end:\n",
        "  if start%2==0:\n",
        "    print(start)\n",
        "  start+=1"
      ],
      "metadata": {
        "colab": {
          "base_uri": "https://localhost:8080/"
        },
        "id": "HjX3YchkFgA9",
        "outputId": "5e9777ff-8ca9-42da-dec3-6adb46a84084"
      },
      "execution_count": null,
      "outputs": [
        {
          "output_type": "stream",
          "name": "stdout",
          "text": [
            "1\n",
            "5\n",
            "2\n",
            "4\n"
          ]
        }
      ]
    },
    {
      "cell_type": "markdown",
      "source": [
        "Print the Table of any number"
      ],
      "metadata": {
        "id": "lmIdF9rwmbgN"
      }
    },
    {
      "cell_type": "code",
      "source": [
        "N = int(input(\"Please enter the number =\"))\n",
        "t = N\n",
        "while t <= 10*N:\n",
        "  print(t)\n",
        "  t += N\n"
      ],
      "metadata": {
        "colab": {
          "base_uri": "https://localhost:8080/"
        },
        "id": "q0yhZ-6Zm45r",
        "outputId": "9f77ebea-e323-475e-a73a-bccaa9f81578"
      },
      "execution_count": null,
      "outputs": [
        {
          "output_type": "stream",
          "name": "stdout",
          "text": [
            "Please enter the number =16\n",
            "16\n",
            "32\n",
            "48\n",
            "64\n",
            "80\n",
            "96\n",
            "112\n",
            "128\n",
            "144\n",
            "160\n"
          ]
        }
      ]
    },
    {
      "cell_type": "markdown",
      "source": [
        "Homework : Enter the Table of N"
      ],
      "metadata": {
        "id": "KZ4xDlAjnrzZ"
      }
    },
    {
      "cell_type": "code",
      "source": [
        "N = int(input(\"Enter the Table of : \"))\n",
        "i = 1\n",
        "while i <= 10:\n",
        "  print(N*i)\n",
        "  i += 1"
      ],
      "metadata": {
        "colab": {
          "base_uri": "https://localhost:8080/"
        },
        "id": "DKV-vZubnwLJ",
        "outputId": "c06cbfc7-ff7a-4ad3-f8f9-fdfd7c0780e4"
      },
      "execution_count": null,
      "outputs": [
        {
          "output_type": "stream",
          "name": "stdout",
          "text": [
            "Enter the Table of : 2\n",
            "2\n",
            "4\n",
            "6\n",
            "8\n",
            "10\n",
            "12\n",
            "14\n",
            "16\n",
            "18\n",
            "20\n"
          ]
        }
      ]
    },
    {
      "cell_type": "markdown",
      "source": [
        "Ask number of tables to write on seperate lines."
      ],
      "metadata": {
        "id": "bGF59PV9v6vU"
      }
    },
    {
      "cell_type": "code",
      "source": [
        "Tables = int(input(\"How many times you want to ask: \"))\n",
        "t = 1\n",
        "while t <= Tables:\n",
        "  N = int(input(\"Enter the Table of: \"))\n",
        "  i = 1\n",
        "  while i <= 10:\n",
        "    print(N*i, end = \" \")\n",
        "    i += 1\n",
        "  t += 1\n",
        "  print('\\n')"
      ],
      "metadata": {
        "colab": {
          "base_uri": "https://localhost:8080/"
        },
        "id": "lddtWLQLwEVP",
        "outputId": "2894da0a-83e3-4e10-a35f-e7a462d8d573"
      },
      "execution_count": null,
      "outputs": [
        {
          "output_type": "stream",
          "name": "stdout",
          "text": [
            "How many times you want to ask: 2\n",
            "Enter the Table of: 3\n",
            "3 6 9 12 15 18 21 24 27 30 \n",
            "\n",
            "Enter the Table of: 5\n",
            "5 10 15 20 25 30 35 40 45 50 \n",
            "\n"
          ]
        }
      ]
    },
    {
      "cell_type": "code",
      "source": [
        "14 % 5"
      ],
      "metadata": {
        "colab": {
          "base_uri": "https://localhost:8080/"
        },
        "id": "bZmOXSJR5jHF",
        "outputId": "d1512df9-2236-4c72-c58c-b00c1b27bdee"
      },
      "execution_count": null,
      "outputs": [
        {
          "output_type": "execute_result",
          "data": {
            "text/plain": [
              "4"
            ]
          },
          "metadata": {},
          "execution_count": 24
        }
      ]
    },
    {
      "cell_type": "code",
      "source": [
        "x = int(input())\n",
        "y = int(input())\n",
        "q = 0\n",
        "r = 0\n",
        "while x >= y:\n",
        "    x -= y\n",
        "    q += 1\n",
        "print(q, x)"
      ],
      "metadata": {
        "colab": {
          "base_uri": "https://localhost:8080/"
        },
        "id": "R23VaUvl6XYa",
        "outputId": "8d5c62f7-cc33-4d3e-e2f5-9703a41668d3"
      },
      "execution_count": null,
      "outputs": [
        {
          "output_type": "stream",
          "name": "stdout",
          "text": [
            "17\n",
            "5\n",
            "3 2\n"
          ]
        }
      ]
    },
    {
      "cell_type": "code",
      "source": [
        "N = int(input())\n",
        "print(N%10,(N//10)%10,(N//100)%10,sep=\"\")"
      ],
      "metadata": {
        "colab": {
          "base_uri": "https://localhost:8080/"
        },
        "id": "cRhVrCdt9lwu",
        "outputId": "e7a70001-ad4e-42f1-bb7f-bcfe1d59d102"
      },
      "execution_count": null,
      "outputs": [
        {
          "output_type": "stream",
          "name": "stdout",
          "text": [
            "456\n",
            "654\n"
          ]
        }
      ]
    },
    {
      "cell_type": "code",
      "source": [
        "T = int(input())\n",
        "for i in range(T):\n",
        "  N = int(input())\n",
        "  N = N//10\n",
        "  print(N)"
      ],
      "metadata": {
        "colab": {
          "base_uri": "https://localhost:8080/"
        },
        "id": "MmtjaHDfCIhb",
        "outputId": "66febdbb-3d31-4494-9a0c-50ae58388d00"
      },
      "execution_count": null,
      "outputs": [
        {
          "output_type": "stream",
          "name": "stdout",
          "text": [
            "3\n",
            "123\n",
            "12\n",
            "123\n",
            "12\n",
            "123\n",
            "12\n"
          ]
        }
      ]
    },
    {
      "cell_type": "code",
      "source": [
        "T = int(input())\n",
        "for i in range(T):\n",
        "    N = int(input())\n",
        "    rev = 0\n",
        "    while N > 0:\n",
        "        rev = rev*10 + N%10\n",
        "        N = N//10\n",
        "    print(rev)"
      ],
      "metadata": {
        "colab": {
          "base_uri": "https://localhost:8080/"
        },
        "id": "VV5hfj5c_KXk",
        "outputId": "8373f862-2836-471c-efe7-e92b573aeea7"
      },
      "execution_count": null,
      "outputs": [
        {
          "output_type": "stream",
          "name": "stdout",
          "text": [
            "2\n",
            "1256\n",
            "6521\n",
            "56987\n",
            "78965\n"
          ]
        }
      ]
    },
    {
      "cell_type": "code",
      "source": [
        "print('yes')"
      ],
      "metadata": {
        "id": "CEfH6dOdlu81",
        "outputId": "648c600b-c8b4-4609-dad6-2085f7461ecd",
        "colab": {
          "base_uri": "https://localhost:8080/"
        }
      },
      "execution_count": null,
      "outputs": [
        {
          "output_type": "stream",
          "name": "stdout",
          "text": [
            "yes\n"
          ]
        }
      ]
    },
    {
      "cell_type": "code",
      "source": [
        "10%2"
      ],
      "metadata": {
        "colab": {
          "base_uri": "https://localhost:8080/"
        },
        "id": "7peqmsxxMf6_",
        "outputId": "8adddb46-45f6-4409-e3ac-52e93caccba5"
      },
      "execution_count": null,
      "outputs": [
        {
          "output_type": "execute_result",
          "data": {
            "text/plain": [
              "0"
            ]
          },
          "metadata": {},
          "execution_count": 3
        }
      ]
    },
    {
      "cell_type": "markdown",
      "source": [
        "Problem Description\n",
        "\n",
        "Take an integer N as input, print the corresponding Numeric Inverted Half Pyramid pattern for N.\n",
        "\n",
        "For example if N = 4 then pattern will be like:\n",
        "1 2 3 4\n",
        "1 2 3\n",
        "1 2\n",
        "1"
      ],
      "metadata": {
        "id": "qwgnAgNhkji4"
      }
    },
    {
      "cell_type": "code",
      "source": [
        "N = int(input())\n",
        "for i in range(0,N):\n",
        "    for j in range(1,N-i+1):\n",
        "        print(j,end=' ')\n",
        "    print()"
      ],
      "metadata": {
        "colab": {
          "base_uri": "https://localhost:8080/"
        },
        "id": "GlkfkaAdkkxD",
        "outputId": "01447ee4-9a79-4379-90f9-14e6bce6e25e"
      },
      "execution_count": null,
      "outputs": [
        {
          "output_type": "stream",
          "name": "stdout",
          "text": [
            "4\n",
            "1 2 3 4 \n",
            "1 2 3 \n",
            "1 2 \n",
            "1 \n"
          ]
        }
      ]
    },
    {
      "cell_type": "code",
      "source": [
        "\"This_is_a_underscore_separated_string\".split(\"_\")"
      ],
      "metadata": {
        "colab": {
          "base_uri": "https://localhost:8080/"
        },
        "id": "yr1raiCd5XSm",
        "outputId": "c779ca2d-3412-4d7f-9143-7bd84f3cf92e"
      },
      "execution_count": null,
      "outputs": [
        {
          "output_type": "execute_result",
          "data": {
            "text/plain": [
              "['This', 'is', 'a', 'underscore', 'separated', 'string']"
            ]
          },
          "metadata": {},
          "execution_count": 2
        }
      ]
    },
    {
      "cell_type": "code",
      "source": [
        "tax = .05*25000\n",
        "tax"
      ],
      "metadata": {
        "id": "p-LoRPMeuU1Z",
        "outputId": "69e2e665-cece-4d6c-ffd4-5a6d3de84e63",
        "colab": {
          "base_uri": "https://localhost:8080/"
        }
      },
      "execution_count": null,
      "outputs": [
        {
          "output_type": "execute_result",
          "data": {
            "text/plain": [
              "1250.0"
            ]
          },
          "metadata": {},
          "execution_count": 2
        }
      ]
    },
    {
      "cell_type": "code",
      "source": [
        "def sequence(n):\n",
        "    for i in range(1,n+1):\n",
        "        if i != n:\n",
        "            print(i,end = \" \")\n",
        "        else:\n",
        "            print(i)\n",
        "    for j in range(n,0,-1):\n",
        "        if j != 1:\n",
        "            print(j,end = \" \")\n",
        "        else:\n",
        "            print(j)"
      ],
      "metadata": {
        "id": "QjOVcGk7zuc2"
      },
      "execution_count": null,
      "outputs": []
    },
    {
      "cell_type": "code",
      "source": [
        "sequence(5)"
      ],
      "metadata": {
        "colab": {
          "base_uri": "https://localhost:8080/"
        },
        "id": "jc0qmnzT1By7",
        "outputId": "9447a30d-9f5f-4d56-abf9-7590b66ddf03"
      },
      "execution_count": null,
      "outputs": [
        {
          "output_type": "stream",
          "name": "stdout",
          "text": [
            "1 2 3 4 5\n",
            "5 4 3 2 1\n"
          ]
        }
      ]
    },
    {
      "cell_type": "code",
      "source": [
        "x = 55\n",
        "def hi():\n",
        "  return x\n",
        "x +=10\n",
        "print(hi())"
      ],
      "metadata": {
        "colab": {
          "base_uri": "https://localhost:8080/"
        },
        "id": "QzVGoifZ5_zA",
        "outputId": "bdc8c756-ef99-4a72-9809-123e52246ccd"
      },
      "execution_count": null,
      "outputs": [
        {
          "output_type": "stream",
          "name": "stdout",
          "text": [
            "65\n"
          ]
        }
      ]
    },
    {
      "cell_type": "code",
      "source": [
        "print(hi())"
      ],
      "metadata": {
        "colab": {
          "base_uri": "https://localhost:8080/"
        },
        "id": "dfqd_btk6CWP",
        "outputId": "94d05f39-f678-47b9-f15e-dc03805115bc"
      },
      "execution_count": null,
      "outputs": [
        {
          "output_type": "stream",
          "name": "stdout",
          "text": [
            "65\n"
          ]
        }
      ]
    },
    {
      "cell_type": "code",
      "source": [
        "def star(n):\n",
        "    '''input: n = An Integer value defines number of rows\n",
        "       output: print the star pattern'''\n",
        "    # YOUR CODE GOES HERE\n",
        "    for i in range(n):\n",
        "        print('*',end='')\n",
        "    print()\n",
        "    for j in range(n-3,0,-1):\n",
        "        print('*'+(j)*\" \"+'*')\n",
        "    print('*')"
      ],
      "metadata": {
        "id": "2H1Obg1M_8zz"
      },
      "execution_count": null,
      "outputs": []
    },
    {
      "cell_type": "code",
      "source": [
        "star(8)"
      ],
      "metadata": {
        "colab": {
          "base_uri": "https://localhost:8080/"
        },
        "id": "Kio7Gg87_-3t",
        "outputId": "3501d311-cf23-4768-8341-c37350adc760"
      },
      "execution_count": null,
      "outputs": [
        {
          "output_type": "stream",
          "name": "stdout",
          "text": [
            "********\n",
            "*     *\n",
            "*    *\n",
            "*   *\n",
            "*  *\n",
            "* *\n",
            "*\n"
          ]
        }
      ]
    },
    {
      "cell_type": "markdown",
      "source": [
        "Write a program to find the difference between the sum of all even elements and the sum of all odd elements from the given array, A."
      ],
      "metadata": {
        "id": "EvhQ4eMM0bMs"
      }
    },
    {
      "cell_type": "code",
      "source": [
        "def even_odd(A):\n",
        "    diff = 0\n",
        "    even = 0\n",
        "    odd = 0\n",
        "    # Write your code here\n",
        "    for i in range(len(A)):\n",
        "        if A[i]%2==0:\n",
        "            even = even + A[i]\n",
        "        else:\n",
        "            odd = odd + A[i]\n",
        "    diff = even - odd\n",
        "\n",
        "    return diff"
      ],
      "metadata": {
        "id": "HmkuJr-i0cOC"
      },
      "execution_count": null,
      "outputs": []
    },
    {
      "cell_type": "markdown",
      "source": [
        "Write a program to print sum of elements of the input array A of size N.\n",
        "\n",
        "Note: User is supposed to write a program from scratch to add the elements of the input array and print the result."
      ],
      "metadata": {
        "id": "P6d4wRCW1nVq"
      }
    },
    {
      "cell_type": "code",
      "source": [
        "word = \"Scaler Data Science Course\"\n",
        "word_list = list(word)\n",
        "print(word_list[7:19])"
      ],
      "metadata": {
        "colab": {
          "base_uri": "https://localhost:8080/"
        },
        "id": "Kuz0OBcy0jx6",
        "outputId": "08370c5e-ad1b-4ef2-e29b-c7c05cb9161e"
      },
      "execution_count": null,
      "outputs": [
        {
          "output_type": "stream",
          "name": "stdout",
          "text": [
            "['D', 'a', 't', 'a', ' ', 'S', 'c', 'i', 'e', 'n', 'c', 'e']\n"
          ]
        }
      ]
    },
    {
      "cell_type": "code",
      "source": [
        "R = int(input())\n",
        "for  i in range(R):\n",
        "  if"
      ],
      "metadata": {
        "id": "TntXo2m7og01"
      },
      "execution_count": null,
      "outputs": []
    },
    {
      "cell_type": "code",
      "source": [
        "x = [1,2,3,4,5,6]\n",
        "x[::-2]\n"
      ],
      "metadata": {
        "colab": {
          "base_uri": "https://localhost:8080/"
        },
        "id": "i6Ql_UYbxG__",
        "outputId": "60c47278-6e0d-48c7-de34-502fbeab529e"
      },
      "execution_count": null,
      "outputs": [
        {
          "output_type": "execute_result",
          "data": {
            "text/plain": [
              "[6, 4, 2]"
            ]
          },
          "metadata": {},
          "execution_count": 2
        }
      ]
    },
    {
      "cell_type": "markdown",
      "source": [
        "Matrix\n"
      ],
      "metadata": {
        "id": "WAvxE4rkQcgl"
      }
    },
    {
      "cell_type": "code",
      "source": [
        "m1 = [[23,24,25],\n",
        "      [67,68,69],\n",
        "      [45,46,47]]\n",
        "m1"
      ],
      "metadata": {
        "colab": {
          "base_uri": "https://localhost:8080/"
        },
        "id": "ChXJsmZuQeGh",
        "outputId": "729dfe1a-9ce4-423e-9483-13a1881684ae"
      },
      "execution_count": null,
      "outputs": [
        {
          "output_type": "execute_result",
          "data": {
            "text/plain": [
              "[[23, 24, 25], [67, 68, 69], [45, 46, 47]]"
            ]
          },
          "metadata": {},
          "execution_count": 5
        }
      ]
    },
    {
      "cell_type": "code",
      "source": [
        "#Get 1st row and 3rd column\n",
        "m1[0][2]"
      ],
      "metadata": {
        "colab": {
          "base_uri": "https://localhost:8080/"
        },
        "id": "kDEe9l2vQ6BV",
        "outputId": "ace5293f-6d31-40b0-90e6-7278dd656ea9"
      },
      "execution_count": null,
      "outputs": [
        {
          "output_type": "execute_result",
          "data": {
            "text/plain": [
              "25"
            ]
          },
          "metadata": {},
          "execution_count": 2
        }
      ]
    },
    {
      "cell_type": "code",
      "source": [
        "for i in m1:\n",
        "  print(i)"
      ],
      "metadata": {
        "colab": {
          "base_uri": "https://localhost:8080/"
        },
        "id": "mI3NeOMpSV3-",
        "outputId": "b522649b-e81f-4f77-fee1-1495f506c4e7"
      },
      "execution_count": null,
      "outputs": [
        {
          "output_type": "stream",
          "name": "stdout",
          "text": [
            "[23, 24, 25]\n",
            "[67, 68, 69]\n",
            "[45, 46, 47]\n"
          ]
        }
      ]
    },
    {
      "cell_type": "code",
      "source": [
        "for i in range(len(m1)):\n",
        "  print(m1[i])"
      ],
      "metadata": {
        "colab": {
          "base_uri": "https://localhost:8080/"
        },
        "id": "f8n74JVvaq-u",
        "outputId": "abd9a17d-3fde-424c-843f-8af48e094751"
      },
      "execution_count": null,
      "outputs": [
        {
          "output_type": "stream",
          "name": "stdout",
          "text": [
            "[23, 24, 25]\n",
            "[67, 68, 69]\n",
            "[45, 46, 47]\n"
          ]
        }
      ]
    },
    {
      "cell_type": "code",
      "source": [
        "for i in range(len(m1)):\n",
        "  for j in range(len(m1[0])):\n",
        "    print(m1[i][j], end = \" \")\n",
        "  print()"
      ],
      "metadata": {
        "colab": {
          "base_uri": "https://localhost:8080/"
        },
        "id": "FlJJNQyF3UWy",
        "outputId": "739febd9-b77e-45af-b751-c315d96e2703"
      },
      "execution_count": null,
      "outputs": [
        {
          "output_type": "stream",
          "name": "stdout",
          "text": [
            "23 24 25 \n",
            "67 68 69 \n",
            "45 46 47 \n"
          ]
        }
      ]
    },
    {
      "cell_type": "markdown",
      "source": [
        "Add two matrices"
      ],
      "metadata": {
        "id": "0uU-YW5pQ445"
      }
    },
    {
      "cell_type": "code",
      "source": [
        "def addMatrices(A, B):\n",
        "\n",
        "    #Your Code Goes Here\n",
        "    M =[]\n",
        "    for i in range(len(A)):\n",
        "        row = []\n",
        "        for j in range(len(A[i])):\n",
        "            row.append(A[i][j]+B[i][j])\n",
        "        M.append(row)\n",
        "    for row in M:\n",
        "      print(row)\n",
        "\n"
      ],
      "metadata": {
        "id": "xOI87hF68nWI"
      },
      "execution_count": null,
      "outputs": []
    },
    {
      "cell_type": "code",
      "source": [
        "A = [[1, 2, 3],\n",
        "     [4, 5, 6],\n",
        "     [7, 8, 9]]\n",
        "\n",
        "B = [[9, 8, 7],\n",
        "     [6, 5, 4],\n",
        "     [3, 2, 1]]\n",
        "\n",
        "addMatrices(A,B)"
      ],
      "metadata": {
        "colab": {
          "base_uri": "https://localhost:8080/"
        },
        "id": "9Gh80bLa8pX8",
        "outputId": "0adf8e3b-81be-4233-a951-2b47f68bcbcd"
      },
      "execution_count": null,
      "outputs": [
        {
          "output_type": "stream",
          "name": "stdout",
          "text": [
            "[10, 10, 10]\n",
            "[10, 10, 10]\n",
            "[10, 10, 10]\n"
          ]
        }
      ]
    },
    {
      "cell_type": "code",
      "source": [
        "A = [1,2,3]\n",
        "max(A)"
      ],
      "metadata": {
        "id": "ePw25oceAypn",
        "outputId": "a57212da-8202-48b5-dff1-ece1141b7e0e",
        "colab": {
          "base_uri": "https://localhost:8080/"
        }
      },
      "execution_count": null,
      "outputs": [
        {
          "output_type": "execute_result",
          "data": {
            "text/plain": [
              "3"
            ]
          },
          "metadata": {},
          "execution_count": 24
        }
      ]
    },
    {
      "cell_type": "markdown",
      "source": [
        "Problem Description\n",
        "\n",
        "Write a program to input N numbers array, a number X and a number Y from user and insert an element Y in it at specified position X. X is based on 1-based indexing\n",
        "\n",
        "Note: When an element is inserted at position X, all elements that were already present at position >= X, gets shifted to one position right, not replaced.\n",
        "\n",
        "Problem Constraints\n",
        "\n",
        "1 <= N <= 100\n",
        "\n",
        "1 <= A[i] <= 1000\n",
        "\n",
        "1 <= X <= N\n",
        "\n",
        "1 <= Y <= 1000\n",
        "\n",
        "Input Format\n",
        "\n",
        "First line is N which represents number of elements.\n",
        "\n",
        "The next N lines contains an integer.\n",
        "\n",
        "Third line is X position where Y has to be inserted.\n",
        "\n",
        "Fourth line is Y which is the value to be inserted.\n",
        "\n",
        "Output Format\n",
        "\n",
        "N+1 space separated integers of the input array after inserting the element at required position."
      ],
      "metadata": {
        "id": "KQX-NmWRPK1R"
      }
    },
    {
      "cell_type": "code",
      "source": [
        "N = int(input())\n",
        "Ar = []\n",
        "n = 0\n",
        "for n in range(N):\n",
        "    Ar.append(int(input()))\n",
        "X = int(input())\n",
        "Y = int(input())\n",
        "Ar.insert(X-1,Y)\n",
        "for i in range(len(Ar)):\n",
        "    print(Ar[i], end = \" \")"
      ],
      "metadata": {
        "colab": {
          "base_uri": "https://localhost:8080/"
        },
        "id": "yti8cT-LEBsD",
        "outputId": "2b2947aa-e1c6-48dd-f165-54680f3e3c64"
      },
      "execution_count": null,
      "outputs": [
        {
          "output_type": "stream",
          "name": "stdout",
          "text": [
            "4\n",
            "5\n",
            "6\n",
            "5\n",
            "6\n",
            "9\n",
            "2\n",
            "5 6 5 6 2 "
          ]
        }
      ]
    },
    {
      "cell_type": "markdown",
      "source": [
        "Problem Description\n",
        "\n",
        "Write a program that reads an integer array A from input and modifies the array by shifting each element to the right by one position and by shifting the last element to the first position. Return the modified array.\n",
        "\n",
        "Problem Constraints\n",
        "\n",
        "1 <= N <= 105\n",
        "1 <= A[i] <= 109\n",
        "Input Format\n",
        "\n",
        "The first line of the input is the size of the array N.\n",
        "The next N lines of the input is integer of the array."
      ],
      "metadata": {
        "id": "3PbdfjzUPHPo"
      }
    },
    {
      "cell_type": "code",
      "source": [
        "def shift():\n",
        "    N = int(input())\n",
        "    # YOUR CODE GOES HERE\n",
        "    A = []\n",
        "    n = 0\n",
        "    for n in range(N):\n",
        "        A.append(int(input()))\n",
        "    A.insert(0,A[-1])\n",
        "    A.pop()\n",
        "    return A"
      ],
      "metadata": {
        "id": "DHKhdkFWPGBe"
      },
      "execution_count": null,
      "outputs": []
    },
    {
      "cell_type": "markdown",
      "source": [
        "Q3. Print in Reverse New\n",
        "\n",
        "Problem Description\n",
        "\n",
        "Write a program to print the input array A of size N in reverse order where you have to take integer N and further N elements as input from user.\n",
        "\n",
        "\n",
        "Problem Constraints\n",
        "\n",
        "1 <= N <= 1000\n",
        "1 <= A <= 1000\n",
        "Input Format\n",
        "\n",
        "The first line of the input is the size of the array N.\n",
        "The next N lines of the input is integer of the array.\n",
        "\n",
        "Output Format\n",
        "\n",
        "A single line containing N space separated integers representing elements of the input array in reverse order.\n",
        "Note - Keep a space character (' ') at the end of the line."
      ],
      "metadata": {
        "id": "jDYJo-0afbEt"
      }
    },
    {
      "cell_type": "code",
      "source": [
        "\n",
        "N = int(input())\n",
        "A = []\n",
        "n = 0\n",
        "for n in range(N):\n",
        "    A.append(int(input()))\n",
        "A.reverse()\n",
        "for i in range(len(A)):\n",
        "    print(A[i], end = \" \")\n",
        "\n"
      ],
      "metadata": {
        "id": "gOm5ulokfg5q"
      },
      "execution_count": null,
      "outputs": []
    },
    {
      "cell_type": "markdown",
      "source": [
        "Q4. Negative Integers New\n",
        "Problem Description\n",
        "\n",
        "Write a program to print all negative numbers from input array A of size N. Take integer N and N elements of the array as input from user.\n",
        "\n",
        "\n",
        "Problem Constraints\n",
        "\n",
        "1 <= N <= 1000\n",
        "-1000 <= A <= 1000\n",
        "\n",
        "Input Format\n",
        "\n",
        "The first line of the input is the size of the array N.\n",
        "The next N lines of the input is integer of the array.\n",
        "\n",
        "Output Format\n",
        "\n",
        "A single line containing elements from the input array which are negative in the same order.\n",
        "\n",
        "Note - Keep a space character (' ') at the end of the line."
      ],
      "metadata": {
        "id": "Yelmpa-5119Q"
      }
    },
    {
      "cell_type": "code",
      "source": [
        "# Your Code Goes Here\n",
        "N = int(input())\n",
        "A = []\n",
        "n = 0\n",
        "for n in range(N):\n",
        "    A.append(int(input()))\n",
        "for i in range(len(A)):\n",
        "    if A[i] < 0:\n",
        "        print(A[i], end = \" \")\n",
        "\n"
      ],
      "metadata": {
        "id": "UOAX_2IL16Lm"
      },
      "execution_count": null,
      "outputs": []
    },
    {
      "cell_type": "markdown",
      "source": [
        "Q7. Inverse of the Array II\n",
        "Problem Description\n",
        "\n",
        "You are given an integer array A. Now your task is to find the inverse of A.\n",
        "Now, the inverse of the array is A will be an array in which we change the\n",
        "positions of the values as their indices and indices as values.\n",
        "\n",
        "So, array A = [2, 0, 1]\n",
        "- Now 2 is at index 0. So, place 0 at index 2.\n",
        "- 0 is at index 1. So, place 1 at index 0.\n",
        "- 1 is at index 2. So, place 2 at index 1.\n",
        "\n",
        "So, the inverse of A will be [1, 2, 0]\n",
        "Note: The integer array A is already passed as an argument to the function. User don't need to take any input. Just perform the task on the passed arguments and return the required result."
      ],
      "metadata": {
        "id": "e2EsIHgk7QBk"
      }
    },
    {
      "cell_type": "code",
      "source": [
        "def invert(A):\n",
        "    # Your Code Goes Here\n",
        "    Ai=[0]*len(A)\n",
        "    for i in range(len(A)):\n",
        "        Ai[A[i]] = i\n",
        "    return Ai"
      ],
      "metadata": {
        "id": "i3oVtjgC7TwM"
      },
      "execution_count": null,
      "outputs": []
    },
    {
      "cell_type": "markdown",
      "source": [
        "Q8. Matrix Transpose II\n",
        "Problem Description\n",
        "\n",
        "Given a 2D integer array A, return the transpose of A.\n",
        "\n",
        "The transpose of a matrix is the matrix flipped over its main diagonal, switching the matrix's row and column indices.\n",
        "Note: The 2D integer array A is already passed as an argument to the function. User don't need to take any input. Just perform the task on the passed arguments and return the required result."
      ],
      "metadata": {
        "id": "3e5N1PlNBloX"
      }
    },
    {
      "cell_type": "code",
      "source": [
        "def transpose(A):\n",
        "    #Your Code Goes Here\n",
        "    At = []\n",
        "    for i in range(len(A[0])):\n",
        "        Atr=[]\n",
        "        for j in range(len(A)):\n",
        "            Atr.append(A[j][i])\n",
        "        At.append(Atr)\n",
        "    return At"
      ],
      "metadata": {
        "id": "OEMhHs7LBplP"
      },
      "execution_count": null,
      "outputs": []
    },
    {
      "cell_type": "markdown",
      "source": [
        "Q9. Matrix Column Sum\n",
        "You are given input as a square NxN matrix, complete the column_sum function so that it returns the sum of each column as a list."
      ],
      "metadata": {
        "id": "-RCWvyhIHA0H"
      }
    },
    {
      "cell_type": "code",
      "source": [
        "def column_sum(matrix):\n",
        "  # write your code here\n",
        "  list = []\n",
        "  for j in range(len(matrix[0])):\n",
        "      sum = 0\n",
        "      for i in range(len(matrix)):\n",
        "          sum = sum + matrix[i][j]\n",
        "      list.append(sum)\n",
        "  return list\n"
      ],
      "metadata": {
        "id": "XMfP85DuHAJC"
      },
      "execution_count": null,
      "outputs": []
    },
    {
      "cell_type": "markdown",
      "source": [
        "Q10. Product of elements\n",
        "Problem Description:\n",
        "\n",
        "Write a program that returns the product of all elements present in the array.\n",
        "\n",
        "Note: The list with elements is already passed as an argument to the function. User don't need to take any input. Just perform the task on the passed arguments and return the required result."
      ],
      "metadata": {
        "id": "6HF35WYHHPAr"
      }
    },
    {
      "cell_type": "code",
      "source": [
        "def product(lst):\n",
        "    ''' input:lst-List of elements in integer format\n",
        "         output:Return the product as result.'''\n",
        "\n",
        "    result = 1\n",
        "    # YOUR CODE GOES HERE\n",
        "    for  i in lst:\n",
        "        result *= i\n",
        "\n",
        "    return result"
      ],
      "metadata": {
        "id": "BhpcFF2VHTTK"
      },
      "execution_count": null,
      "outputs": []
    },
    {
      "cell_type": "markdown",
      "source": [
        "# STRINGS"
      ],
      "metadata": {
        "id": "ja8-W0PRUmar"
      }
    },
    {
      "cell_type": "markdown",
      "source": [
        "Q1. Date formatting\n",
        "Problem Description:\n",
        "\n",
        "Given the input date in DD/MM/YYYY format as a string, write a function that returns the converted date in the string formats MM/DD/YYYY and YYYY/MM/DD and return the new date formats.\n",
        "\n",
        "Input Format:\n",
        "\n",
        "First input line will have the number of test cases. There will be a single line of input for each\n",
        "testcase which will consist of date in the string format DD/MM/YYYY.\n",
        "Output Format:\n",
        "\n",
        "Resultant date formats in string formats MM/DD/YYYY and YYYY/MM/DD"
      ],
      "metadata": {
        "id": "MJ4MKPEVHJB5"
      }
    },
    {
      "cell_type": "code",
      "source": [
        "def date_format(date):\n",
        "    '''Input: date takes the string as input\n",
        "       Output:return resultant date formats'''\n",
        "    d = date.split(\"/\")\n",
        "    result1 = \"/\".join([d[1],d[0],d[2]])\n",
        "    result2 = \"/\".join([d[2],d[1],d[0]])\n",
        "    return result1,result2\n",
        "\n",
        "date_format(\"01/01/2020\")"
      ],
      "metadata": {
        "colab": {
          "base_uri": "https://localhost:8080/"
        },
        "id": "rtCRf4FBHH7Q",
        "outputId": "237d5384-b6b4-4855-ac5c-65190668a9fb"
      },
      "execution_count": null,
      "outputs": [
        {
          "output_type": "execute_result",
          "data": {
            "text/plain": [
              "('01/01/2020', '2020/01/01')"
            ]
          },
          "metadata": {},
          "execution_count": 6
        }
      ]
    },
    {
      "cell_type": "markdown",
      "source": [
        "Problem Description\n",
        "\n",
        "You are given a character string A and two integer ASCII codes B and C.\n",
        "\n",
        "You have to find and replace all the occurrences of the character having ASCII code equal to B with character having ASCII code equal to C and return the resultant string.\n",
        "Input Format\n",
        "\n",
        "First argument is a character string A.\n",
        "\n",
        "Second argument is an integer B.\n",
        "\n",
        "Third argument is an integer C.\n",
        "\n",
        "\n",
        "\n",
        "Output Format\n",
        "\n",
        "Return the resultant string after replacing the character(s).\n",
        "\n",
        "\n",
        "\n",
        "Example Input\n",
        "\n",
        "Input 1:\n",
        "\n",
        " A = \"aabbccbb\"\n",
        " B = 98\n",
        " C = 100\n",
        "\n",
        " Example Output\n",
        "\n",
        "Output 1:\n",
        "\n",
        " aaddccdd\n",
        "\n",
        " Explanation 1:\n",
        "\n",
        " Character having ASCII code equal to 98 = 'b'\n",
        " Character having ASCII code equal to 100 = 'd'\n",
        " Character 'b' occurs at positions 3, 4, 7 and 8 in \"aabbaabb\".\n",
        " After replacing the characters, string becomes \"aaddaadd\"."
      ],
      "metadata": {
        "id": "5t5Wv2wRUrFh"
      }
    },
    {
      "cell_type": "code",
      "source": [
        "class Solution:\n",
        "    def solve(self, A, B, C):\n",
        "        Ar = list(A)\n",
        "        for i in range(len(Ar)):\n",
        "            if Ar[i] == chr(B):\n",
        "                Ar[i] = chr(C)\n",
        "        result = \"\".join(Ar)\n",
        "        return result\n"
      ],
      "metadata": {
        "colab": {
          "base_uri": "https://localhost:8080/",
          "height": 36
        },
        "id": "bwPP078dYgKi",
        "outputId": "7d3dff36-eeeb-4ac8-f4e5-04d7e1764991"
      },
      "execution_count": null,
      "outputs": [
        {
          "output_type": "execute_result",
          "data": {
            "text/plain": [
              "'b'"
            ],
            "application/vnd.google.colaboratory.intrinsic+json": {
              "type": "string"
            }
          },
          "metadata": {},
          "execution_count": 8
        }
      ]
    },
    {
      "cell_type": "code",
      "source": [
        "word = \"Scaler Academy\"\n",
        "n = len(word)\n",
        "n"
      ],
      "metadata": {
        "colab": {
          "base_uri": "https://localhost:8080/"
        },
        "id": "Y6PRIXR1fxup",
        "outputId": "63d71a74-6e2a-4e58-f38b-fdeec44a8192"
      },
      "execution_count": null,
      "outputs": [
        {
          "output_type": "execute_result",
          "data": {
            "text/plain": [
              "14"
            ]
          },
          "metadata": {},
          "execution_count": 10
        }
      ]
    },
    {
      "cell_type": "markdown",
      "source": [
        "Problem Description\n",
        "\n",
        "You are given lowercase string (A) and you have to tell the count of vowels and consonants in it.\n",
        "\n",
        "Input 2:\n",
        "\n",
        "scaler\n",
        "\n",
        "Output 2:\n",
        "\n",
        "[2 4]"
      ],
      "metadata": {
        "id": "JXJFqwfzk4R3"
      }
    },
    {
      "cell_type": "code",
      "source": [
        "class Solution:\n",
        "    def solve(self, A):\n",
        "        v = 0\n",
        "        c = 0\n",
        "        for  i in A:\n",
        "            if i in ('a','e','i','o','u'):\n",
        "                v += 1\n",
        "            else:\n",
        "                c += 1\n",
        "        return v,c"
      ],
      "metadata": {
        "id": "9ythjngsi7rJ"
      },
      "execution_count": null,
      "outputs": []
    },
    {
      "cell_type": "code",
      "source": [
        " s = \"hello\"\n",
        "print( s[: : -1] )"
      ],
      "metadata": {
        "colab": {
          "base_uri": "https://localhost:8080/"
        },
        "id": "C01rOhbSodmm",
        "outputId": "48df2a42-48a0-40d0-81ab-4f6e752aaf29"
      },
      "execution_count": null,
      "outputs": [
        {
          "output_type": "stream",
          "name": "stdout",
          "text": [
            "olleh\n"
          ]
        }
      ]
    },
    {
      "cell_type": "code",
      "source": [
        "a = \"Random String\"\n",
        "d = a[:]\n",
        "d"
      ],
      "metadata": {
        "colab": {
          "base_uri": "https://localhost:8080/",
          "height": 36
        },
        "id": "pGw-37rIpJ8e",
        "outputId": "6b61827a-7ebe-4896-b52f-0cfbc77463a0"
      },
      "execution_count": null,
      "outputs": [
        {
          "output_type": "execute_result",
          "data": {
            "text/plain": [
              "'Random String'"
            ],
            "application/vnd.google.colaboratory.intrinsic+json": {
              "type": "string"
            }
          },
          "metadata": {},
          "execution_count": 22
        }
      ]
    },
    {
      "cell_type": "markdown",
      "source": [
        "## **TUPLES and SETS**"
      ],
      "metadata": {
        "id": "d2IzjUO-Buhb"
      }
    },
    {
      "cell_type": "markdown",
      "source": [
        "Q1. Divide the tuple\n",
        "Problem Description:\n",
        "\n",
        "Write a program to divide a given tuple into two tuples that contain even and odd indexed elements of the original tuple. Print both these tuples in the given output format.\n",
        "\n",
        "Note: The input tuple follows 1-based indexing. This means the element at index 0 is treated as having index as 1.\n",
        "\n",
        "For example, (9,2,3). The 1-based index of 2 is 2.\n",
        "\n",
        "Input Format:\n",
        "\n",
        "The input contains a tuple as an argument to the function.\n",
        "Output Format:\n",
        "\n",
        "Print two tuples one for odd indexed elements and another for even indexed elements in the following format:\n",
        "Odd: (....)\n",
        "Even: (....)\n",
        "Sample Input:\n",
        "\n",
        "1\n",
        "(10, 8, 5, 2, 10, 15, 10, 8, 5, 8, 8, 2)\n",
        "Sample Output:\n",
        "\n",
        "Odd: (10, 5, 10, 10, 5, 8)\n",
        "Even: (8, 2, 15, 8, 8, 2)"
      ],
      "metadata": {
        "id": "ohB_lvAVB0AU"
      }
    },
    {
      "cell_type": "code",
      "source": [
        "t = (10, 8, 5, 2, 10, 15, 10, 8, 5, 8, 8, 2)\n",
        "type(t)"
      ],
      "metadata": {
        "colab": {
          "base_uri": "https://localhost:8080/"
        },
        "id": "O2LYCHTOBuGD",
        "outputId": "c39b8b11-2fe5-43a5-ef2e-6d899f7ed55d"
      },
      "execution_count": null,
      "outputs": [
        {
          "output_type": "execute_result",
          "data": {
            "text/plain": [
              "tuple"
            ]
          },
          "metadata": {},
          "execution_count": 3
        }
      ]
    },
    {
      "cell_type": "code",
      "source": [
        "t[1]"
      ],
      "metadata": {
        "colab": {
          "base_uri": "https://localhost:8080/"
        },
        "id": "0hkwc0_UDY09",
        "outputId": "c40590e4-bcd3-45aa-feca-4a236be3af0a"
      },
      "execution_count": null,
      "outputs": [
        {
          "output_type": "execute_result",
          "data": {
            "text/plain": [
              "8"
            ]
          },
          "metadata": {},
          "execution_count": 5
        }
      ]
    },
    {
      "cell_type": "code",
      "source": [
        "def odd_even_split_tuple(tup):\n",
        "    ''' input:tup-indicates the tuple\n",
        "         output:print two tuples one for even indexed and odd indexed in the given output format'''\n",
        "    odd = ()\n",
        "    even = ()\n",
        "    for i in range(len(tup)):\n",
        "        if (i+1)%2 == 0:       # Checks the index if its odd or even\n",
        "            even += (tup[i],)  # Add elements to the tuple\n",
        "        else:\n",
        "            odd += (tup[i],)\n",
        "    print(f\"Odd: {odd}\")       ## f formatting for string Interpolation\n",
        "    print(f\"Even: {even}\")"
      ],
      "metadata": {
        "id": "kbPbbf_EHyfj"
      },
      "execution_count": null,
      "outputs": []
    },
    {
      "cell_type": "markdown",
      "source": [
        "Q2. Adding to a tuple\n",
        "Predict the output of the following code as we are trying to append to an immutable tuple:"
      ],
      "metadata": {
        "id": "Y5j637bsIc3r"
      }
    },
    {
      "cell_type": "code",
      "source": [
        "name_lst = [\"Vijay\", \"Vickey\"]\n",
        "tup = (\"Item_1\", 0.5, name_lst)\n",
        "name_lst.append(\"Vishal\")\n",
        "print(tup)"
      ],
      "metadata": {
        "colab": {
          "base_uri": "https://localhost:8080/"
        },
        "id": "W4OCTc-OIcD0",
        "outputId": "9daadc9d-1094-4947-baf8-960ec6a0cdcb"
      },
      "execution_count": null,
      "outputs": [
        {
          "output_type": "stream",
          "name": "stdout",
          "text": [
            "('Item_1', 0.5, ['Vijay', 'Vickey', 'Vishal'])\n"
          ]
        }
      ]
    },
    {
      "cell_type": "markdown",
      "source": [
        "Q4. Length of unique words\n",
        "\n",
        "Problem Description:\n",
        "\n",
        "Given two sentences, write a program to return the sum of the total number of unique words from each sentence.\n",
        "\n",
        "Input Format:\n",
        "\n",
        "The first line indicates the number of test cases.There will be two lines of inputs for each test cases as following:\n",
        "The two lines consist of two sentences in string format.\n",
        "\n",
        "If a word is present in both sentences it should be counted separately for both sentences."
      ],
      "metadata": {
        "id": "hUHSbOjqMcRb"
      }
    },
    {
      "cell_type": "code",
      "source": [
        "def set_operation(sent1,sent2):\n",
        "    ''' input:sent1,sent2-two sentences taken as inputs\n",
        "         output:return the sum of length of unique words.'''\n",
        "\n",
        "    # YOUR CODE GOES HERE\n",
        "    print(len(set(sent1.split(\" \"))) + len(set(sent2.split(\" \"))))\n"
      ],
      "metadata": {
        "id": "EAt-Q7lZMnq7"
      },
      "execution_count": null,
      "outputs": []
    },
    {
      "cell_type": "code",
      "source": [
        "set1 = {1, 2, 4}\n",
        "set2 = {4, 5, 6}\n",
        "print(len(set1 | set2))"
      ],
      "metadata": {
        "colab": {
          "base_uri": "https://localhost:8080/"
        },
        "id": "Zw7o_1rbM2jD",
        "outputId": "e61f6956-cf90-4f46-b6f4-59d04388855d"
      },
      "execution_count": null,
      "outputs": [
        {
          "output_type": "stream",
          "name": "stdout",
          "text": [
            "5\n"
          ]
        }
      ]
    },
    {
      "cell_type": "markdown",
      "source": [
        "Q6. Symmetric difference\n",
        "Problem Description\n",
        "\n",
        "Write a program that returns the symmetric difference of two sets, without actually using the symmetric difference operator.\n",
        "Example Input\n",
        "\n",
        "1\n",
        "10 20 30 40\n",
        "30 40 50 60\n",
        "Example Output\n",
        "\n",
        "{10, 20, 50 ,60}"
      ],
      "metadata": {
        "id": "UpCvAGJKOTuz"
      }
    },
    {
      "cell_type": "code",
      "source": [
        "def symm_diff(set1, set2 ):\n",
        "    ''' input:set1,set2-two sets\n",
        "        output:return symmetric difference set\n",
        "    '''\n",
        "\n",
        "    # YOUR CODE GOES HERE\n",
        "    return (set1 | set2) - (set1 & set2)"
      ],
      "metadata": {
        "id": "xV8CdogEOZkC"
      },
      "execution_count": null,
      "outputs": []
    },
    {
      "cell_type": "markdown",
      "source": [
        "Q1. Making Sets\n",
        "Which of the options defines a set s consisting of strings 'Scaler', 'Academy', 'is', and 'Awesome'?"
      ],
      "metadata": {
        "id": "-ti_t3UmOySK"
      }
    },
    {
      "cell_type": "code",
      "source": [
        "s = set(['Scaler', 'Academy', 'is', 'Awesome'])\n",
        "s"
      ],
      "metadata": {
        "colab": {
          "base_uri": "https://localhost:8080/"
        },
        "id": "60Chac9LO0zS",
        "outputId": "464245cf-4d81-4ab3-e9a0-54d3f6a40737"
      },
      "execution_count": null,
      "outputs": [
        {
          "output_type": "execute_result",
          "data": {
            "text/plain": [
              "{'Academy', 'Awesome', 'Scaler', 'is'}"
            ]
          },
          "metadata": {},
          "execution_count": 10
        }
      ]
    },
    {
      "cell_type": "code",
      "source": [
        "s = set('Scaler', 'Academy', 'is', 'Awesome')\n",
        "s"
      ],
      "metadata": {
        "colab": {
          "base_uri": "https://localhost:8080/",
          "height": 158
        },
        "id": "42kWAk8YO8Jq",
        "outputId": "e655d303-8b63-4fe7-bb9f-8359f8506632"
      },
      "execution_count": null,
      "outputs": [
        {
          "output_type": "error",
          "ename": "TypeError",
          "evalue": "set expected at most 1 argument, got 4",
          "traceback": [
            "\u001b[0;31m---------------------------------------------------------------------------\u001b[0m",
            "\u001b[0;31mTypeError\u001b[0m                                 Traceback (most recent call last)",
            "\u001b[0;32m/tmp/ipython-input-11-619677666.py\u001b[0m in \u001b[0;36m<cell line: 0>\u001b[0;34m()\u001b[0m\n\u001b[0;32m----> 1\u001b[0;31m \u001b[0ms\u001b[0m \u001b[0;34m=\u001b[0m \u001b[0mset\u001b[0m\u001b[0;34m(\u001b[0m\u001b[0;34m'Scaler'\u001b[0m\u001b[0;34m,\u001b[0m \u001b[0;34m'Academy'\u001b[0m\u001b[0;34m,\u001b[0m \u001b[0;34m'is'\u001b[0m\u001b[0;34m,\u001b[0m \u001b[0;34m'Awesome'\u001b[0m\u001b[0;34m)\u001b[0m\u001b[0;34m\u001b[0m\u001b[0;34m\u001b[0m\u001b[0m\n\u001b[0m\u001b[1;32m      2\u001b[0m \u001b[0ms\u001b[0m\u001b[0;34m\u001b[0m\u001b[0;34m\u001b[0m\u001b[0m\n",
            "\u001b[0;31mTypeError\u001b[0m: set expected at most 1 argument, got 4"
          ]
        }
      ]
    },
    {
      "cell_type": "code",
      "source": [
        "s = set('Scaler Academy is Awesome')\n",
        "s"
      ],
      "metadata": {
        "colab": {
          "base_uri": "https://localhost:8080/"
        },
        "id": "m9gClYFZPHPS",
        "outputId": "1dedfebb-5ddd-42b9-d4ba-167340c0350e"
      },
      "execution_count": null,
      "outputs": [
        {
          "output_type": "execute_result",
          "data": {
            "text/plain": [
              "{' ', 'A', 'S', 'a', 'c', 'd', 'e', 'i', 'l', 'm', 'o', 'r', 's', 'w', 'y'}"
            ]
          },
          "metadata": {},
          "execution_count": 12
        }
      ]
    },
    {
      "cell_type": "code",
      "source": [
        "\n",
        "s ={'Scaler', 'Academy', 'is', 'Awesome'}\n",
        "s"
      ],
      "metadata": {
        "colab": {
          "base_uri": "https://localhost:8080/"
        },
        "id": "lIjqd6z0POuj",
        "outputId": "5e726ecc-9004-491f-96c9-42c7f40e9047"
      },
      "execution_count": null,
      "outputs": [
        {
          "output_type": "execute_result",
          "data": {
            "text/plain": [
              "{'Academy', 'Awesome', 'Scaler', 'is'}"
            ]
          },
          "metadata": {},
          "execution_count": 13
        }
      ]
    },
    {
      "cell_type": "markdown",
      "source": [
        "Q2. Updating Elements\n",
        "Complete the code snippet with possible statements from options so that the expected output is obtained.\n",
        "\n",
        "sets = {3, 4, 5}\n",
        "___________\n",
        "print(sets)\n",
        "Expected Output: {1, 2, 3, 4, 5}"
      ],
      "metadata": {
        "id": "2XpYkUkSPmoE"
      }
    },
    {
      "cell_type": "code",
      "source": [
        "sets = {3, 4, 5}\n",
        "sets.update([1, 2, 3])\n",
        "print(sets)"
      ],
      "metadata": {
        "colab": {
          "base_uri": "https://localhost:8080/"
        },
        "id": "W2mR7casPmSj",
        "outputId": "189b2a4e-4007-487e-e95b-79299cd65f52"
      },
      "execution_count": null,
      "outputs": [
        {
          "output_type": "stream",
          "name": "stdout",
          "text": [
            "{1, 2, 3, 4, 5}\n"
          ]
        }
      ]
    },
    {
      "cell_type": "code",
      "source": [
        "sets = {3, 4, 5}\n",
        "sets.add(1)\n",
        "print(sets)"
      ],
      "metadata": {
        "colab": {
          "base_uri": "https://localhost:8080/"
        },
        "id": "6W0lx03xP2R7",
        "outputId": "22b5b8d2-4a90-48da-c3d2-9dbfaf2fda44"
      },
      "execution_count": null,
      "outputs": [
        {
          "output_type": "stream",
          "name": "stdout",
          "text": [
            "{1, 3, 4, 5}\n"
          ]
        }
      ]
    },
    {
      "cell_type": "code",
      "source": [
        "sets = {3, 4, 5}\n",
        "sets += {1}\n",
        "print(sets)"
      ],
      "metadata": {
        "colab": {
          "base_uri": "https://localhost:8080/",
          "height": 176
        },
        "id": "WCPk16hPP-ra",
        "outputId": "0ec4b58e-70e0-4ccb-b1f0-c980ba05d5b0"
      },
      "execution_count": null,
      "outputs": [
        {
          "output_type": "error",
          "ename": "TypeError",
          "evalue": "unsupported operand type(s) for +=: 'set' and 'set'",
          "traceback": [
            "\u001b[0;31m---------------------------------------------------------------------------\u001b[0m",
            "\u001b[0;31mTypeError\u001b[0m                                 Traceback (most recent call last)",
            "\u001b[0;32m/tmp/ipython-input-24-567588042.py\u001b[0m in \u001b[0;36m<cell line: 0>\u001b[0;34m()\u001b[0m\n\u001b[1;32m      1\u001b[0m \u001b[0msets\u001b[0m \u001b[0;34m=\u001b[0m \u001b[0;34m{\u001b[0m\u001b[0;36m3\u001b[0m\u001b[0;34m,\u001b[0m \u001b[0;36m4\u001b[0m\u001b[0;34m,\u001b[0m \u001b[0;36m5\u001b[0m\u001b[0;34m}\u001b[0m\u001b[0;34m\u001b[0m\u001b[0;34m\u001b[0m\u001b[0m\n\u001b[0;32m----> 2\u001b[0;31m \u001b[0msets\u001b[0m \u001b[0;34m+=\u001b[0m \u001b[0;34m{\u001b[0m\u001b[0;36m1\u001b[0m\u001b[0;34m}\u001b[0m\u001b[0;34m\u001b[0m\u001b[0;34m\u001b[0m\u001b[0m\n\u001b[0m\u001b[1;32m      3\u001b[0m \u001b[0mprint\u001b[0m\u001b[0;34m(\u001b[0m\u001b[0msets\u001b[0m\u001b[0;34m)\u001b[0m\u001b[0;34m\u001b[0m\u001b[0;34m\u001b[0m\u001b[0m\n",
            "\u001b[0;31mTypeError\u001b[0m: unsupported operand type(s) for +=: 'set' and 'set'"
          ]
        }
      ]
    },
    {
      "cell_type": "code",
      "source": [
        "sets = {3, 4, 5}\n",
        "sets += {1, 2, 3}\n",
        "print(sets)"
      ],
      "metadata": {
        "colab": {
          "base_uri": "https://localhost:8080/",
          "height": 176
        },
        "id": "GbsfGyGYQF_a",
        "outputId": "cac21287-35cf-4025-e48b-f26ac5543cfb"
      },
      "execution_count": null,
      "outputs": [
        {
          "output_type": "error",
          "ename": "TypeError",
          "evalue": "unsupported operand type(s) for +=: 'set' and 'set'",
          "traceback": [
            "\u001b[0;31m---------------------------------------------------------------------------\u001b[0m",
            "\u001b[0;31mTypeError\u001b[0m                                 Traceback (most recent call last)",
            "\u001b[0;32m/tmp/ipython-input-18-1586450486.py\u001b[0m in \u001b[0;36m<cell line: 0>\u001b[0;34m()\u001b[0m\n\u001b[1;32m      1\u001b[0m \u001b[0msets\u001b[0m \u001b[0;34m=\u001b[0m \u001b[0;34m{\u001b[0m\u001b[0;36m3\u001b[0m\u001b[0;34m,\u001b[0m \u001b[0;36m4\u001b[0m\u001b[0;34m,\u001b[0m \u001b[0;36m5\u001b[0m\u001b[0;34m}\u001b[0m\u001b[0;34m\u001b[0m\u001b[0;34m\u001b[0m\u001b[0m\n\u001b[0;32m----> 2\u001b[0;31m \u001b[0msets\u001b[0m \u001b[0;34m+=\u001b[0m \u001b[0;34m{\u001b[0m\u001b[0;36m1\u001b[0m\u001b[0;34m,\u001b[0m \u001b[0;36m2\u001b[0m\u001b[0;34m,\u001b[0m \u001b[0;36m3\u001b[0m\u001b[0;34m}\u001b[0m\u001b[0;34m\u001b[0m\u001b[0;34m\u001b[0m\u001b[0m\n\u001b[0m\u001b[1;32m      3\u001b[0m \u001b[0mprint\u001b[0m\u001b[0;34m(\u001b[0m\u001b[0msets\u001b[0m\u001b[0;34m)\u001b[0m\u001b[0;34m\u001b[0m\u001b[0;34m\u001b[0m\u001b[0m\n",
            "\u001b[0;31mTypeError\u001b[0m: unsupported operand type(s) for +=: 'set' and 'set'"
          ]
        }
      ]
    },
    {
      "cell_type": "code",
      "source": [
        "sets = {3, 4, 5}\n",
        "sets = sets.union({1, 2, 3})\n",
        "print(sets)"
      ],
      "metadata": {
        "colab": {
          "base_uri": "https://localhost:8080/"
        },
        "id": "wZxjcuT-QSk6",
        "outputId": "b79989f5-3fae-4524-9f1f-c662b9f496c0"
      },
      "execution_count": null,
      "outputs": [
        {
          "output_type": "stream",
          "name": "stdout",
          "text": [
            "{1, 2, 3, 4, 5}\n"
          ]
        }
      ]
    },
    {
      "cell_type": "markdown",
      "source": [
        "Q4. Frequency of unique elements\n",
        "Problem Description:\n",
        "\n",
        "Write a function to print out the frequency of all the unique elements present in a given tuple.\n",
        "Sample Input 1:\n",
        "\n",
        "(10, 8, 5, 2, 10, 15, 10, 8, 5, 8, 8, 2)\n",
        "Sample Output 1:\n",
        "\n",
        "10 : 3\n",
        "8 : 4\n",
        "5 : 2\n",
        "2 : 2\n",
        "15 : 1"
      ],
      "metadata": {
        "id": "-syRWXAERw6-"
      }
    },
    {
      "cell_type": "code",
      "source": [
        "tup = (10, 8, 5, 2, 10, 15, 10, 8, 5, 8, 8, 2)\n",
        "for i in range(len(tup)):\n",
        "  print(f\"{tup[i]}:{tup.count(tup[i])}\")"
      ],
      "metadata": {
        "colab": {
          "base_uri": "https://localhost:8080/"
        },
        "id": "IC43prxxR5nk",
        "outputId": "6766bea9-197b-4b11-a203-e576434bd982"
      },
      "execution_count": null,
      "outputs": [
        {
          "output_type": "stream",
          "name": "stdout",
          "text": [
            "10:3\n",
            "8:4\n",
            "5:2\n",
            "2:2\n",
            "10:3\n",
            "15:1\n",
            "10:3\n",
            "8:4\n",
            "5:2\n",
            "8:4\n",
            "8:4\n",
            "2:2\n"
          ]
        }
      ]
    },
    {
      "cell_type": "code",
      "source": [
        "def unique_count(tup):\n",
        "    ''' input:tup-indicates the tuple\n",
        "         output:Print the unique elements and their frequency'''\n",
        "\n",
        "    # YOUR CODE GOES HERE\n",
        "    for i in range(len(tup)):\n",
        "        if tup[i] not in tup[:i]:\n",
        "            print(f\"{tup[i]} : {tup.count(tup[i])}\")"
      ],
      "metadata": {
        "id": "dp039jgvVdya"
      },
      "execution_count": null,
      "outputs": []
    },
    {
      "cell_type": "markdown",
      "source": [],
      "metadata": {
        "id": "VT5G2d67V23K"
      }
    },
    {
      "cell_type": "markdown",
      "source": [
        "Q5. Access Tuples"
      ],
      "metadata": {
        "id": "Zlo-K2mmV5gi"
      }
    },
    {
      "cell_type": "code",
      "source": [
        "elements = (10, 20, 30, 40, 50, 60, 70, 80)\n",
        "print(elements[2:5], elements[:4], elements[3:100])"
      ],
      "metadata": {
        "colab": {
          "base_uri": "https://localhost:8080/"
        },
        "id": "BRD0cAHAV4r9",
        "outputId": "17c9b06d-6aa0-4498-994f-df6adca6e72b"
      },
      "execution_count": null,
      "outputs": [
        {
          "output_type": "stream",
          "name": "stdout",
          "text": [
            "(30, 40, 50) (10, 20, 30, 40) (40, 50, 60, 70, 80)\n"
          ]
        }
      ]
    },
    {
      "cell_type": "markdown",
      "source": [
        "## **Dictionary**"
      ],
      "metadata": {
        "id": "anOc7Zya6QcQ"
      }
    },
    {
      "cell_type": "markdown",
      "source": [
        "Q1. Frequency of Characters\n",
        "Problem Description:\n",
        "\n",
        "Given an input string, write a program to count the frequency of each character in the string. Map the characters and their respective frequency into a dictionary and return that dictionary.\n",
        "\n",
        "Note: In the back-end, we are just checking the items in the dictionary, not the order therefore True will be printed if the returned dictionary has the same items as expected otherwise False will be printed.\n",
        "\n",
        "Sample Input:\n",
        "\n",
        "ABC\n",
        "Sample Output:\n",
        "\n",
        "{'A': 1, 'B': 1, 'C': 1}"
      ],
      "metadata": {
        "id": "dz4_C9Om6VQJ"
      }
    },
    {
      "cell_type": "code",
      "source": [
        "def dict_freq(str1):\n",
        "    '''str1 is a string\n",
        "       Ouput -> A dictionary is expected to be returned'''\n",
        "\n",
        "    # YOUR CODE GOES HERE\n",
        "    d = {}\n",
        "    for i in str1:\n",
        "        if i in d:\n",
        "            d[i] += 1\n",
        "        else:\n",
        "            d[i] = 1\n",
        "    return d"
      ],
      "metadata": {
        "id": "2f-hGkYw6d4I"
      },
      "execution_count": null,
      "outputs": []
    },
    {
      "cell_type": "code",
      "source": [
        "string = \"abc\"\n",
        "result = {}\n",
        "for i in set(string):\n",
        "    result[i] = string.count(i)\n",
        "result"
      ],
      "metadata": {
        "colab": {
          "base_uri": "https://localhost:8080/"
        },
        "id": "GdkL44OO71KU",
        "outputId": "c75ddb9a-d867-41f3-e577-8e134f06d96a"
      },
      "execution_count": null,
      "outputs": [
        {
          "output_type": "execute_result",
          "data": {
            "text/plain": [
              "{'a': 1, 'c': 1, 'b': 1}"
            ]
          },
          "metadata": {},
          "execution_count": 2
        }
      ]
    },
    {
      "cell_type": "markdown",
      "source": [
        "Problem Description:\n",
        "\n",
        "Given a dictionary, find the sum of values of every key in the dictionary.\n",
        "\n",
        "Input Format:\n",
        "\n",
        "The input contains two lines.\n",
        "The first line has space-separated string values which are the keys of the dictionary.\n",
        "The second line has space-separated integer numbers which are the values of the dictionary.\n",
        "Output Format:\n",
        "\n",
        "Print the sum of the values of the items as an integer.\n",
        "Sample Input:\n",
        "\n",
        "x y z\n",
        "25 25 50\n",
        "Sample Output:\n",
        "\n",
        "100"
      ],
      "metadata": {
        "id": "mpw25tbmDBA_"
      }
    },
    {
      "cell_type": "markdown",
      "source": [
        "The returnSum function is defined with a parameter dict.\n",
        "The variable sum is initialized to 0. This variable will store the sum of all values in the dictionary.\n",
        "A for loop is used to iterate over the values in the dictionary using the dict.values() method (for i in dict.values():).\n",
        "Inside the loop, each value i is added to the sum variable (sum = sum + i).\n",
        "After the loop, the value of sum is printed using the print function"
      ],
      "metadata": {
        "id": "Uj6g-rudB3O4"
      }
    },
    {
      "cell_type": "code",
      "source": [
        "def returnSum(dict):\n",
        "    sum = 0\n",
        "    # dict.values() will have all the values of dictionary\n",
        "    for i in dict.values():\n",
        "          sum = sum + i\n",
        "    print(sum)"
      ],
      "metadata": {
        "id": "fhGWxafrDCB6"
      },
      "execution_count": null,
      "outputs": []
    },
    {
      "cell_type": "markdown",
      "source": [
        "Q6. Least frequent from back\n",
        "You are given a string of characters, these characters can be anything from alphabets to symbols. Your task is to complete the given function so that it returns the last character that repeated the least times in string. If no such character is present then it should return None"
      ],
      "metadata": {
        "id": "UndhpuNcDFXo"
      }
    },
    {
      "cell_type": "code",
      "source": [
        "# write your code here\n",
        "def count_char(string):\n",
        "    hash = {}\n",
        "    for ch in string[::-1]:\n",
        "        if hash.get(ch, None) != None:\n",
        "            hash[ch] += 1\n",
        "        else:\n",
        "            hash[ch] = 1\n",
        "\n",
        "    least_freq = (None, float(\"inf\"))\n",
        "    for ch, freq in hash.items():\n",
        "        if hash[ch] < least_freq[1]:\n",
        "            least_freq = (ch, hash[ch])\n",
        "\n",
        "    return least_freq[0]"
      ],
      "metadata": {
        "id": "9UlEh7qV_jiD"
      },
      "execution_count": null,
      "outputs": []
    },
    {
      "cell_type": "markdown",
      "source": [
        "Q2. Playing with Keys\n"
      ],
      "metadata": {
        "id": "r5xy-ne_F8Uw"
      }
    },
    {
      "cell_type": "code",
      "source": [
        "abc = {}\n",
        "abc[1] = 1\n",
        "abc\n",
        "abc['1'] = 2\n",
        "abc"
      ],
      "metadata": {
        "colab": {
          "base_uri": "https://localhost:8080/"
        },
        "id": "pcHQpky8F7Gw",
        "outputId": "f2d8b331-12b6-42e5-fa3d-1b40574cc8ec"
      },
      "execution_count": null,
      "outputs": [
        {
          "output_type": "execute_result",
          "data": {
            "text/plain": [
              "{1: 1, '1': 2}"
            ]
          },
          "metadata": {},
          "execution_count": 6
        }
      ]
    },
    {
      "cell_type": "markdown",
      "source": [
        "Q3. List to dict\n",
        "You are given a function that takes two lists as input named keys and values respectfully. Return the dictionary such that ith index element of key list have the corresponding ith index element of values list as value.\n",
        "\n",
        "Note: Lengths of lists maybe different, in that case ignore the extra elements in any list.\n",
        "\n",
        "Input Format\n",
        "\n",
        "list[int]\n",
        "list[int]\n",
        "Output Format\n",
        "\n",
        "dict"
      ],
      "metadata": {
        "id": "_Iq-RAimHpUu"
      }
    },
    {
      "cell_type": "code",
      "source": [
        "def list_to_dict(keys, values):\n",
        "    # write your code here\n",
        "    d = {}\n",
        "    for i in range(min(len(keys),len(values))):   # takes the shorter length\n",
        "        d[keys[i]] = values[i]\n",
        "    return d"
      ],
      "metadata": {
        "id": "jPbWgDaxHt1j"
      },
      "execution_count": null,
      "outputs": []
    },
    {
      "cell_type": "markdown",
      "source": [
        "prices = {'apple': 1.50, 'banana': 0.75, 'orange': 1.25}."
      ],
      "metadata": {
        "id": "Mj7WQGPeIvXf"
      }
    },
    {
      "cell_type": "code",
      "source": [
        "prices = {'apple': 1.50, 'banana': 0.75, 'orange': 1.25}\n",
        "prices.pop('banana')\n",
        "prices"
      ],
      "metadata": {
        "colab": {
          "base_uri": "https://localhost:8080/"
        },
        "collapsed": true,
        "id": "zcBPtfj_IwS4",
        "outputId": "d7216345-2a0d-427d-d430-1a2a14563483"
      },
      "execution_count": null,
      "outputs": [
        {
          "output_type": "execute_result",
          "data": {
            "text/plain": [
              "{'apple': 1.5, 'orange': 1.25}"
            ]
          },
          "metadata": {},
          "execution_count": 18
        }
      ]
    },
    {
      "cell_type": "code",
      "source": [],
      "metadata": {
        "colab": {
          "base_uri": "https://localhost:8080/"
        },
        "id": "iN_pxmpdI3yw",
        "outputId": "0e371127-df7a-4315-baac-c049f0e733bf"
      },
      "execution_count": null,
      "outputs": [
        {
          "output_type": "stream",
          "name": "stdout",
          "text": [
            "Help on class dict in module builtins:\n",
            "\n",
            "class dict(object)\n",
            " |  dict() -> new empty dictionary\n",
            " |  dict(mapping) -> new dictionary initialized from a mapping object's\n",
            " |      (key, value) pairs\n",
            " |  dict(iterable) -> new dictionary initialized as if via:\n",
            " |      d = {}\n",
            " |      for k, v in iterable:\n",
            " |          d[k] = v\n",
            " |  dict(**kwargs) -> new dictionary initialized with the name=value pairs\n",
            " |      in the keyword argument list.  For example:  dict(one=1, two=2)\n",
            " |  \n",
            " |  Built-in subclasses:\n",
            " |      StgDict\n",
            " |  \n",
            " |  Methods defined here:\n",
            " |  \n",
            " |  __contains__(self, key, /)\n",
            " |      True if the dictionary has the specified key, else False.\n",
            " |  \n",
            " |  __delitem__(self, key, /)\n",
            " |      Delete self[key].\n",
            " |  \n",
            " |  __eq__(self, value, /)\n",
            " |      Return self==value.\n",
            " |  \n",
            " |  __ge__(self, value, /)\n",
            " |      Return self>=value.\n",
            " |  \n",
            " |  __getattribute__(self, name, /)\n",
            " |      Return getattr(self, name).\n",
            " |  \n",
            " |  __getitem__(...)\n",
            " |      x.__getitem__(y) <==> x[y]\n",
            " |  \n",
            " |  __gt__(self, value, /)\n",
            " |      Return self>value.\n",
            " |  \n",
            " |  __init__(self, /, *args, **kwargs)\n",
            " |      Initialize self.  See help(type(self)) for accurate signature.\n",
            " |  \n",
            " |  __ior__(self, value, /)\n",
            " |      Return self|=value.\n",
            " |  \n",
            " |  __iter__(self, /)\n",
            " |      Implement iter(self).\n",
            " |  \n",
            " |  __le__(self, value, /)\n",
            " |      Return self<=value.\n",
            " |  \n",
            " |  __len__(self, /)\n",
            " |      Return len(self).\n",
            " |  \n",
            " |  __lt__(self, value, /)\n",
            " |      Return self<value.\n",
            " |  \n",
            " |  __ne__(self, value, /)\n",
            " |      Return self!=value.\n",
            " |  \n",
            " |  __or__(self, value, /)\n",
            " |      Return self|value.\n",
            " |  \n",
            " |  __repr__(self, /)\n",
            " |      Return repr(self).\n",
            " |  \n",
            " |  __reversed__(self, /)\n",
            " |      Return a reverse iterator over the dict keys.\n",
            " |  \n",
            " |  __ror__(self, value, /)\n",
            " |      Return value|self.\n",
            " |  \n",
            " |  __setitem__(self, key, value, /)\n",
            " |      Set self[key] to value.\n",
            " |  \n",
            " |  __sizeof__(...)\n",
            " |      D.__sizeof__() -> size of D in memory, in bytes\n",
            " |  \n",
            " |  clear(...)\n",
            " |      D.clear() -> None.  Remove all items from D.\n",
            " |  \n",
            " |  copy(...)\n",
            " |      D.copy() -> a shallow copy of D\n",
            " |  \n",
            " |  get(self, key, default=None, /)\n",
            " |      Return the value for key if key is in the dictionary, else default.\n",
            " |  \n",
            " |  items(...)\n",
            " |      D.items() -> a set-like object providing a view on D's items\n",
            " |  \n",
            " |  keys(...)\n",
            " |      D.keys() -> a set-like object providing a view on D's keys\n",
            " |  \n",
            " |  pop(...)\n",
            " |      D.pop(k[,d]) -> v, remove specified key and return the corresponding value.\n",
            " |      \n",
            " |      If the key is not found, return the default if given; otherwise,\n",
            " |      raise a KeyError.\n",
            " |  \n",
            " |  popitem(self, /)\n",
            " |      Remove and return a (key, value) pair as a 2-tuple.\n",
            " |      \n",
            " |      Pairs are returned in LIFO (last-in, first-out) order.\n",
            " |      Raises KeyError if the dict is empty.\n",
            " |  \n",
            " |  setdefault(self, key, default=None, /)\n",
            " |      Insert key with a value of default if key is not in the dictionary.\n",
            " |      \n",
            " |      Return the value for key if key is in the dictionary, else default.\n",
            " |  \n",
            " |  update(...)\n",
            " |      D.update([E, ]**F) -> None.  Update D from dict/iterable E and F.\n",
            " |      If E is present and has a .keys() method, then does:  for k in E: D[k] = E[k]\n",
            " |      If E is present and lacks a .keys() method, then does:  for k, v in E: D[k] = v\n",
            " |      In either case, this is followed by: for k in F:  D[k] = F[k]\n",
            " |  \n",
            " |  values(...)\n",
            " |      D.values() -> an object providing a view on D's values\n",
            " |  \n",
            " |  ----------------------------------------------------------------------\n",
            " |  Class methods defined here:\n",
            " |  \n",
            " |  __class_getitem__(...)\n",
            " |      See PEP 585\n",
            " |  \n",
            " |  fromkeys(iterable, value=None, /)\n",
            " |      Create a new dictionary with keys from iterable and values set to value.\n",
            " |  \n",
            " |  ----------------------------------------------------------------------\n",
            " |  Static methods defined here:\n",
            " |  \n",
            " |  __new__(*args, **kwargs)\n",
            " |      Create and return a new object.  See help(type) for accurate signature.\n",
            " |  \n",
            " |  ----------------------------------------------------------------------\n",
            " |  Data and other attributes defined here:\n",
            " |  \n",
            " |  __hash__ = None\n",
            "\n"
          ]
        }
      ]
    },
    {
      "cell_type": "code",
      "source": [
        "T = int(input())\n",
        "    for t in range(T):\n",
        "      A = int(input())\n",
        "\n",
        "      S = str(A)\n",
        "      sum = 0\n",
        "      for i in S:\n",
        "        sum += int(i)\n",
        "        print(sum)"
      ],
      "metadata": {
        "colab": {
          "base_uri": "https://localhost:8080/"
        },
        "id": "_Vq0bKzHWo8y",
        "outputId": "2b52993a-2bc5-42a7-cb0b-b4c4d71aa731"
      },
      "execution_count": null,
      "outputs": [
        {
          "output_type": "stream",
          "name": "stdout",
          "text": [
            "3\n",
            "123\n",
            "1234\n",
            "12345\n",
            "1\n",
            "3\n",
            "6\n",
            "10\n",
            "15\n"
          ]
        }
      ]
    },
    {
      "cell_type": "code",
      "source": [
        "num = int(input())\n",
        "while num > 1:\n",
        "    num = num // 3\n",
        "print(num)"
      ],
      "metadata": {
        "colab": {
          "base_uri": "https://localhost:8080/"
        },
        "id": "ncfJ2sgle38d",
        "outputId": "b760de36-52fc-4d5e-a93f-87e5230e5ba4"
      },
      "execution_count": null,
      "outputs": [
        {
          "output_type": "stream",
          "name": "stdout",
          "text": [
            "72\n",
            "0\n"
          ]
        }
      ]
    },
    {
      "cell_type": "markdown",
      "source": [
        "### **Pyhton part 2**"
      ],
      "metadata": {
        "id": "PGOEDpHggibL"
      }
    },
    {
      "cell_type": "markdown",
      "source": [
        "Time and Space Complexity\n"
      ],
      "metadata": {
        "id": "GJZLB3K8gtfj"
      }
    },
    {
      "cell_type": "code",
      "source": [
        "!pip install numpy"
      ],
      "metadata": {
        "colab": {
          "base_uri": "https://localhost:8080/"
        },
        "id": "NYk--p2Rtb-A",
        "outputId": "8ae8c0a5-dcfe-4df5-eb7d-76099b6ded78"
      },
      "execution_count": null,
      "outputs": [
        {
          "output_type": "stream",
          "name": "stdout",
          "text": [
            "Requirement already satisfied: numpy in /usr/local/lib/python3.11/dist-packages (2.0.2)\n"
          ]
        }
      ]
    },
    {
      "cell_type": "code",
      "source": [
        "import numpy as np"
      ],
      "metadata": {
        "id": "sWOYji_vtuqC"
      },
      "execution_count": null,
      "outputs": []
    },
    {
      "cell_type": "code",
      "source": [
        "help(np.arange)"
      ],
      "metadata": {
        "colab": {
          "base_uri": "https://localhost:8080/"
        },
        "id": "mj4zCO49t9EJ",
        "outputId": "f98b595e-5158-4e9b-ae44-c34d0729c926"
      },
      "execution_count": null,
      "outputs": [
        {
          "output_type": "stream",
          "name": "stdout",
          "text": [
            "Help on built-in function arange in module numpy:\n",
            "\n",
            "arange(...)\n",
            "    arange([start,] stop[, step,], dtype=None, *, device=None, like=None)\n",
            "    \n",
            "    Return evenly spaced values within a given interval.\n",
            "    \n",
            "    ``arange`` can be called with a varying number of positional arguments:\n",
            "    \n",
            "    * ``arange(stop)``: Values are generated within the half-open interval\n",
            "      ``[0, stop)`` (in other words, the interval including `start` but\n",
            "      excluding `stop`).\n",
            "    * ``arange(start, stop)``: Values are generated within the half-open\n",
            "      interval ``[start, stop)``.\n",
            "    * ``arange(start, stop, step)`` Values are generated within the half-open\n",
            "      interval ``[start, stop)``, with spacing between values given by\n",
            "      ``step``.\n",
            "    \n",
            "    For integer arguments the function is roughly equivalent to the Python\n",
            "    built-in :py:class:`range`, but returns an ndarray rather than a ``range``\n",
            "    instance.\n",
            "    \n",
            "    When using a non-integer step, such as 0.1, it is often better to use\n",
            "    `numpy.linspace`.\n",
            "    \n",
            "    See the Warning sections below for more information.\n",
            "    \n",
            "    Parameters\n",
            "    ----------\n",
            "    start : integer or real, optional\n",
            "        Start of interval.  The interval includes this value.  The default\n",
            "        start value is 0.\n",
            "    stop : integer or real\n",
            "        End of interval.  The interval does not include this value, except\n",
            "        in some cases where `step` is not an integer and floating point\n",
            "        round-off affects the length of `out`.\n",
            "    step : integer or real, optional\n",
            "        Spacing between values.  For any output `out`, this is the distance\n",
            "        between two adjacent values, ``out[i+1] - out[i]``.  The default\n",
            "        step size is 1.  If `step` is specified as a position argument,\n",
            "        `start` must also be given.\n",
            "    dtype : dtype, optional\n",
            "        The type of the output array.  If `dtype` is not given, infer the data\n",
            "        type from the other input arguments.\n",
            "    device : str, optional\n",
            "        The device on which to place the created array. Default: None.\n",
            "        For Array-API interoperability only, so must be ``\"cpu\"`` if passed.\n",
            "    \n",
            "        .. versionadded:: 2.0.0\n",
            "    like : array_like, optional\n",
            "        Reference object to allow the creation of arrays which are not\n",
            "        NumPy arrays. If an array-like passed in as ``like`` supports\n",
            "        the ``__array_function__`` protocol, the result will be defined\n",
            "        by it. In this case, it ensures the creation of an array object\n",
            "        compatible with that passed in via this argument.\n",
            "    \n",
            "        .. versionadded:: 1.20.0\n",
            "    \n",
            "    Returns\n",
            "    -------\n",
            "    arange : ndarray\n",
            "        Array of evenly spaced values.\n",
            "    \n",
            "        For floating point arguments, the length of the result is\n",
            "        ``ceil((stop - start)/step)``.  Because of floating point overflow,\n",
            "        this rule may result in the last element of `out` being greater\n",
            "        than `stop`.\n",
            "    \n",
            "    Warnings\n",
            "    --------\n",
            "    The length of the output might not be numerically stable.\n",
            "    \n",
            "    Another stability issue is due to the internal implementation of\n",
            "    `numpy.arange`.\n",
            "    The actual step value used to populate the array is\n",
            "    ``dtype(start + step) - dtype(start)`` and not `step`. Precision loss\n",
            "    can occur here, due to casting or due to using floating points when\n",
            "    `start` is much larger than `step`. This can lead to unexpected\n",
            "    behaviour. For example::\n",
            "    \n",
            "      >>> np.arange(0, 5, 0.5, dtype=int)\n",
            "      array([0, 0, 0, 0, 0, 0, 0, 0, 0, 0])\n",
            "      >>> np.arange(-3, 3, 0.5, dtype=int)\n",
            "      array([-3, -2, -1,  0,  1,  2,  3,  4,  5,  6,  7,  8])\n",
            "    \n",
            "    In such cases, the use of `numpy.linspace` should be preferred.\n",
            "    \n",
            "    The built-in :py:class:`range` generates :std:doc:`Python built-in integers\n",
            "    that have arbitrary size <python:c-api/long>`, while `numpy.arange`\n",
            "    produces `numpy.int32` or `numpy.int64` numbers. This may result in\n",
            "    incorrect results for large integer values::\n",
            "    \n",
            "      >>> power = 40\n",
            "      >>> modulo = 10000\n",
            "      >>> x1 = [(n ** power) % modulo for n in range(8)]\n",
            "      >>> x2 = [(n ** power) % modulo for n in np.arange(8)]\n",
            "      >>> print(x1)\n",
            "      [0, 1, 7776, 8801, 6176, 625, 6576, 4001]  # correct\n",
            "      >>> print(x2)\n",
            "      [0, 1, 7776, 7185, 0, 5969, 4816, 3361]  # incorrect\n",
            "    \n",
            "    See Also\n",
            "    --------\n",
            "    numpy.linspace : Evenly spaced numbers with careful handling of endpoints.\n",
            "    numpy.ogrid: Arrays of evenly spaced numbers in N-dimensions.\n",
            "    numpy.mgrid: Grid-shaped arrays of evenly spaced numbers in N-dimensions.\n",
            "    :ref:`how-to-partition`\n",
            "    \n",
            "    Examples\n",
            "    --------\n",
            "    >>> np.arange(3)\n",
            "    array([0, 1, 2])\n",
            "    >>> np.arange(3.0)\n",
            "    array([ 0.,  1.,  2.])\n",
            "    >>> np.arange(3,7)\n",
            "    array([3, 4, 5, 6])\n",
            "    >>> np.arange(3,7,2)\n",
            "    array([3, 5])\n",
            "\n"
          ]
        }
      ]
    },
    {
      "cell_type": "code",
      "source": [
        "np.arange(22,71,2)"
      ],
      "metadata": {
        "colab": {
          "base_uri": "https://localhost:8080/"
        },
        "id": "r6a_guCLvHkq",
        "outputId": "1b5ef094-9139-4152-da3b-30625172468f"
      },
      "execution_count": null,
      "outputs": [
        {
          "output_type": "execute_result",
          "data": {
            "text/plain": [
              "array([22, 24, 26, 28, 30, 32, 34, 36, 38, 40, 42, 44, 46, 48, 50, 52, 54,\n",
              "       56, 58, 60, 62, 64, 66, 68, 70])"
            ]
          },
          "metadata": {},
          "execution_count": 16
        }
      ]
    },
    {
      "cell_type": "code",
      "source": [
        "a = np.arange(10)\n",
        "print(a)\n",
        "print(a[0])\n",
        "print(a[2:5])"
      ],
      "metadata": {
        "colab": {
          "base_uri": "https://localhost:8080/"
        },
        "id": "VL0uOUKz_gy0",
        "outputId": "bf0c3ed0-8538-4267-fddd-f4b20c2d4380"
      },
      "execution_count": null,
      "outputs": [
        {
          "output_type": "stream",
          "name": "stdout",
          "text": [
            "[0 1 2 3 4 5 6 7 8 9]\n",
            "0\n",
            "[2 3 4]\n"
          ]
        }
      ]
    },
    {
      "cell_type": "code",
      "source": [
        "a = np.array([[34, 28,55], [8, 56, 3], [77, 87, 19]])\n",
        "print(a.transpose()[-2,-2])"
      ],
      "metadata": {
        "colab": {
          "base_uri": "https://localhost:8080/"
        },
        "id": "oyGhwIdTLSCZ",
        "outputId": "5ee1bb40-e8f7-427e-f9dc-a4d545074866"
      },
      "execution_count": null,
      "outputs": [
        {
          "output_type": "stream",
          "name": "stdout",
          "text": [
            "56\n"
          ]
        }
      ]
    },
    {
      "cell_type": "code",
      "source": [
        "arr = array([10, 12, 15, 17, 2, 5, 4, 6])"
      ],
      "metadata": {
        "colab": {
          "base_uri": "https://localhost:8080/",
          "height": 141
        },
        "id": "tNBuNOYQQLWo",
        "outputId": "c80616f4-570a-4a60-ed41-9d20af0cfd0f"
      },
      "execution_count": null,
      "outputs": [
        {
          "output_type": "error",
          "ename": "NameError",
          "evalue": "name 'array' is not defined",
          "traceback": [
            "\u001b[0;31m---------------------------------------------------------------------------\u001b[0m",
            "\u001b[0;31mNameError\u001b[0m                                 Traceback (most recent call last)",
            "\u001b[0;32m/tmp/ipython-input-4-2503839814.py\u001b[0m in \u001b[0;36m<cell line: 0>\u001b[0;34m()\u001b[0m\n\u001b[0;32m----> 1\u001b[0;31m \u001b[0marr\u001b[0m \u001b[0;34m:\u001b[0m \u001b[0marray\u001b[0m\u001b[0;34m(\u001b[0m\u001b[0;34m[\u001b[0m\u001b[0;36m10\u001b[0m\u001b[0;34m,\u001b[0m \u001b[0;36m12\u001b[0m\u001b[0;34m,\u001b[0m \u001b[0;36m15\u001b[0m\u001b[0;34m,\u001b[0m \u001b[0;36m17\u001b[0m\u001b[0;34m,\u001b[0m \u001b[0;36m2\u001b[0m\u001b[0;34m,\u001b[0m \u001b[0;36m5\u001b[0m\u001b[0;34m,\u001b[0m \u001b[0;36m4\u001b[0m\u001b[0;34m,\u001b[0m \u001b[0;36m6\u001b[0m\u001b[0;34m]\u001b[0m\u001b[0;34m)\u001b[0m\u001b[0;34m\u001b[0m\u001b[0;34m\u001b[0m\u001b[0m\n\u001b[0m",
            "\u001b[0;31mNameError\u001b[0m: name 'array' is not defined"
          ]
        }
      ]
    },
    {
      "cell_type": "code",
      "source": [
        "import numpy as np\n",
        "def ratio(marks_arr):\n",
        "    # Complete the missing code\n",
        "    marks_arr = np.array(marks_arr)\n",
        "    distinction = (marks_arr >= 80) # Use masking to get the values\n",
        "    first_div = (marks_arr >= 60) & (marks_arr < 80) # Use masking to get the values\n",
        "\n",
        "    distinction_count = np.sum(distinction)\n",
        "    first_div_count = np.sum(first_div)\n",
        "\n",
        "    ratio = distinction_count/first_div_count\n",
        "\n",
        "    return round(ratio,2)\n",
        "\n",
        "ratio([20, 35, 68, 82, 83, 70, 90])"
      ],
      "metadata": {
        "colab": {
          "base_uri": "https://localhost:8080/"
        },
        "collapsed": true,
        "id": "fHRuklGKNlUQ",
        "outputId": "2d850019-92b8-4a31-d874-6a1c6c06d253"
      },
      "execution_count": null,
      "outputs": [
        {
          "output_type": "execute_result",
          "data": {
            "text/plain": [
              "np.float64(1.5)"
            ]
          },
          "metadata": {},
          "execution_count": 4
        }
      ]
    },
    {
      "cell_type": "code",
      "source": [
        "import numpy as np\n",
        "\n",
        "a = np.array([1,2,3,4,5,6])\n",
        "a\n",
        "a[::-1]"
      ],
      "metadata": {
        "colab": {
          "base_uri": "https://localhost:8080/"
        },
        "id": "GuMLP3aNPxQp",
        "outputId": "af7817ba-5c36-410d-e803-1ef3cd971cc8"
      },
      "execution_count": null,
      "outputs": [
        {
          "output_type": "execute_result",
          "data": {
            "text/plain": [
              "array([6, 5, 4, 3, 2, 1])"
            ]
          },
          "metadata": {},
          "execution_count": 5
        }
      ]
    },
    {
      "cell_type": "code",
      "source": [
        "a.shape"
      ],
      "metadata": {
        "colab": {
          "base_uri": "https://localhost:8080/"
        },
        "id": "W_RVSzhYRL_f",
        "outputId": "8a56e786-c6bb-4fce-e1f8-5acdd291466f"
      },
      "execution_count": null,
      "outputs": [
        {
          "output_type": "execute_result",
          "data": {
            "text/plain": [
              "(6,)"
            ]
          },
          "metadata": {},
          "execution_count": 6
        }
      ]
    },
    {
      "cell_type": "code",
      "source": [
        "b = a.reshape(2,3)"
      ],
      "metadata": {
        "id": "yIoeKen-VJYt"
      },
      "execution_count": null,
      "outputs": []
    },
    {
      "cell_type": "code",
      "source": [
        "b"
      ],
      "metadata": {
        "id": "dwtYJ3vTVfec",
        "colab": {
          "base_uri": "https://localhost:8080/"
        },
        "outputId": "f4707b5f-72e4-435b-aaea-41005c45749a"
      },
      "execution_count": null,
      "outputs": [
        {
          "output_type": "execute_result",
          "data": {
            "text/plain": [
              "array([[1, 2, 3],\n",
              "       [4, 5, 6]])"
            ]
          },
          "metadata": {},
          "execution_count": 11
        }
      ]
    },
    {
      "cell_type": "code",
      "source": [
        "b[:, ::-1]## reversed columns(elements in each row is reversed)\n"
      ],
      "metadata": {
        "colab": {
          "base_uri": "https://localhost:8080/"
        },
        "id": "yPZqP1CQgEEL",
        "outputId": "517b8050-a930-4641-e074-e67e83eca357"
      },
      "execution_count": null,
      "outputs": [
        {
          "output_type": "execute_result",
          "data": {
            "text/plain": [
              "array([[3, 2, 1],\n",
              "       [6, 5, 4]])"
            ]
          },
          "metadata": {},
          "execution_count": 15
        }
      ]
    },
    {
      "cell_type": "code",
      "source": [
        "b[::-1, :]## reversed rows(elements in each column is reversed)"
      ],
      "metadata": {
        "colab": {
          "base_uri": "https://localhost:8080/"
        },
        "id": "fquntR2aXRw1",
        "outputId": "eaaf57b0-259e-470b-b746-aba6f0eed754"
      },
      "execution_count": null,
      "outputs": [
        {
          "output_type": "execute_result",
          "data": {
            "text/plain": [
              "array([[4, 5, 6],\n",
              "       [1, 2, 3]])"
            ]
          },
          "metadata": {},
          "execution_count": 16
        }
      ]
    }
  ]
}